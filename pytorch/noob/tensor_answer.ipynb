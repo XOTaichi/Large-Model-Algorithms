{
 "cells": [
  {
   "cell_type": "markdown",
   "id": "d46c04cb",
   "metadata": {},
   "source": [
    "# PyTorch torch.tensor 编程挑战(答案部分)"
   ]
  },
  {
   "cell_type": "markdown",
   "id": "6329b92e",
   "metadata": {},
   "source": [
    "## tensor的创建"
   ]
  },
  {
   "cell_type": "markdown",
   "id": "1493e07d",
   "metadata": {},
   "source": [
    "题目 1：从 Python 列表创建\n",
    "描述：根据一个一维 Python 列表 [1, 2, 3, 4, 5] 创建一个 PyTorch 张量。"
   ]
  },
  {
   "cell_type": "code",
   "execution_count": 1,
   "id": "8cb07e37",
   "metadata": {},
   "outputs": [],
   "source": [
    "import torch\n",
    "import numpy as np"
   ]
  },
  {
   "cell_type": "code",
   "execution_count": 3,
   "id": "90c80044",
   "metadata": {},
   "outputs": [
    {
     "name": "stdout",
     "output_type": "stream",
     "text": [
      "tensor([1, 2, 3, 4, 5])\n"
     ]
    }
   ],
   "source": [
    "l = [1, 2, 3, 4, 5]\n",
    "t = torch.tensor(l)\n",
    "print(t)"
   ]
  },
  {
   "cell_type": "markdown",
   "id": "62c53dba",
   "metadata": {},
   "source": [
    "题目 2：创建多维张量\n",
    "描述：根据一个嵌套的 Python 列表 [[1, 2], [3, 4]] 创建一个 2x2 的二维张量。"
   ]
  },
  {
   "cell_type": "code",
   "execution_count": 4,
   "id": "6cda341a",
   "metadata": {},
   "outputs": [
    {
     "name": "stdout",
     "output_type": "stream",
     "text": [
      "[[1, 2], [3, 4]]\n"
     ]
    }
   ],
   "source": [
    "l = [[1, 2], [3, 4]]\n",
    "t = torch.tensor(l)\n",
    "print(l)"
   ]
  },
  {
   "cell_type": "markdown",
   "id": "cc2cc26b",
   "metadata": {},
   "source": [
    "题目 3：指定数据类型\n",
    "描述：创建一个包含 [1.0, 2.0, 3.0] 的张量，并确保其数据类型（dtype）为 torch.float32。"
   ]
  },
  {
   "cell_type": "code",
   "execution_count": 5,
   "id": "30a00d54",
   "metadata": {},
   "outputs": [
    {
     "name": "stdout",
     "output_type": "stream",
     "text": [
      "tensor([1., 2., 3.])\n"
     ]
    }
   ],
   "source": [
    "l = [1, 2, 3]\n",
    "t = torch.tensor(l, dtype=torch.float32)\n",
    "print(t)"
   ]
  },
  {
   "cell_type": "markdown",
   "id": "82a5bba4",
   "metadata": {},
   "source": [
    "题目 4：从 NumPy 数组创建\n",
    "描述：首先，创建一个包含 [5, 6, 7, 8] 的 NumPy 数组。然后，将这个 NumPy 数组转换为 PyTorch 张量。"
   ]
  },
  {
   "cell_type": "code",
   "execution_count": 8,
   "id": "1925aefd",
   "metadata": {},
   "outputs": [
    {
     "name": "stdout",
     "output_type": "stream",
     "text": [
      "tensor([5, 6, 7, 8])\n"
     ]
    }
   ],
   "source": [
    "n = np.array([5, 6, 7, 8])\n",
    "t = torch.from_numpy(n)\n",
    "print(t)"
   ]
  },
  {
   "cell_type": "markdown",
   "id": "ebc5fbd4",
   "metadata": {},
   "source": [
    "题目 5：创建需要梯度的张量\n",
    "描述：创建一个值为 2.0 的标量张量，并设置 requires_grad=True，用于后续的自动求导计算。"
   ]
  },
  {
   "cell_type": "code",
   "execution_count": 9,
   "id": "8b2b0435",
   "metadata": {},
   "outputs": [
    {
     "name": "stdout",
     "output_type": "stream",
     "text": [
      "tensor(2., requires_grad=True)\n"
     ]
    }
   ],
   "source": [
    "t = torch.tensor(2, dtype=torch.float, requires_grad=True)\n",
    "print(t)"
   ]
  },
  {
   "cell_type": "markdown",
   "id": "025d3be7",
   "metadata": {},
   "source": [
    "题目 6：使用 clone() 和 detach()\n",
    "描述：创建一个名为 a 的张量，其值为 [1, 2] 且 requires_grad=True。然后进行以下操作：\n",
    "\n",
    "创建 b = a.clone()。\n",
    "\n",
    "创建 c = a.detach()。\n",
    "\n",
    "请问 b 和 c 的 requires_grad 属性分别是多少？为什么？"
   ]
  },
  {
   "cell_type": "code",
   "execution_count": 12,
   "id": "ca7df604",
   "metadata": {},
   "outputs": [
    {
     "name": "stdout",
     "output_type": "stream",
     "text": [
      "tensor([1., 2.], dtype=torch.float64, requires_grad=True)\n",
      "tensor([1., 2.], dtype=torch.float64, grad_fn=<CloneBackward0>)\n",
      "tensor([1., 2.], dtype=torch.float64)\n",
      "True\n",
      "False\n"
     ]
    }
   ],
   "source": [
    "a = torch.tensor([1, 2], dtype=float, requires_grad=True)\n",
    "print(a)\n",
    "b = a.clone()\n",
    "print(b)\n",
    "c = a.detach()\n",
    "print(c)\n",
    "\n",
    "print(b.requires_grad)  # True\n",
    "print(c.requires_grad)  # False"
   ]
  },
  {
   "cell_type": "markdown",
   "id": "547773f0",
   "metadata": {},
   "source": [
    "clone()：复制数据 但保留计算图（requires_grad 状态保持不变）。\n",
    "\n",
    "detach()：创建一个新的张量，与原计算图断开连接，因此 requires_grad=False。"
   ]
  },
  {
   "cell_type": "markdown",
   "id": "8283ccf0",
   "metadata": {},
   "source": [
    "题目 7：使用工厂函数创建\n",
    "描述：不直接使用 torch.tensor，而是使用 PyTorch 的工厂函数来完成以下操作：\n",
    "\n",
    "创建一个形状为 (3, 4) 的全零张量。\n",
    "\n",
    "创建一个形状为 (2, 5) 的全一张量。\n",
    "\n",
    "创建一个形状为 (3, 3) 但元素为随机数的张量。"
   ]
  },
  {
   "cell_type": "code",
   "execution_count": 14,
   "id": "59dfaad3",
   "metadata": {},
   "outputs": [
    {
     "name": "stdout",
     "output_type": "stream",
     "text": [
      "tensor([[0., 0., 0., 0.],\n",
      "        [0., 0., 0., 0.],\n",
      "        [0., 0., 0., 0.]])\n",
      "tensor([[1., 1., 1., 1., 1.],\n",
      "        [1., 1., 1., 1., 1.]])\n",
      "tensor([[0.8270, 0.7475, 0.5623],\n",
      "        [0.2182, 0.3187, 0.9837],\n",
      "        [0.0959, 0.9213, 0.1182]])\n"
     ]
    }
   ],
   "source": [
    "a = torch.zeros([3, 4])\n",
    "print(a)\n",
    "b = torch.ones([2, 5])\n",
    "print(b)\n",
    "c = torch.rand([3, 3])\n",
    "print(c)"
   ]
  },
  {
   "cell_type": "markdown",
   "id": "405c61be",
   "metadata": {},
   "source": [
    "## 张量的属性与索引"
   ]
  },
  {
   "cell_type": "markdown",
   "id": "37ed6296",
   "metadata": {},
   "source": [
    "题目 8：获取张量属性\n",
    "描述：创建一个 3x5 的随机整数张量（范围在0-10之间）。然后打印出这个张量的形状（shape）、数据类型（dtype）和存储设备（device）。"
   ]
  },
  {
   "cell_type": "code",
   "execution_count": 15,
   "id": "7ac17bbb",
   "metadata": {},
   "outputs": [
    {
     "name": "stdout",
     "output_type": "stream",
     "text": [
      "torch.Size([3, 5])\n",
      "torch.float32\n",
      "cpu\n"
     ]
    }
   ],
   "source": [
    "a = torch.rand([3, 5])\n",
    "print(a.shape)\n",
    "print(a.dtype)\n",
    "print(a.device)"
   ]
  },
  {
   "cell_type": "markdown",
   "id": "0f170b2c",
   "metadata": {},
   "source": [
    "题目 9：基本索引\n",
    "描述：创建一个 4x4 的二维张量，内容为 [[1, 2, 3, 4], [5, 6, 7, 8], [9, 10, 11, 12], [13, 14, 15, 16]]。\n",
    "\n",
    "获取第 2 行，第 3 列的元素（即 7）。\n",
    "\n",
    "获取整个第 3 行。\n",
    "\n",
    "获取整个第 2 列。"
   ]
  },
  {
   "cell_type": "code",
   "execution_count": 19,
   "id": "dbd40c68",
   "metadata": {},
   "outputs": [
    {
     "name": "stdout",
     "output_type": "stream",
     "text": [
      "tensor(7)\n",
      "tensor([[ 9, 10, 11, 12]])\n",
      "tensor([[5, 6, 7, 8]])\n"
     ]
    }
   ],
   "source": [
    "t = torch.tensor([\n",
    "    [1, 2, 3, 4],\n",
    "    [5, 6, 7, 8],\n",
    "    [9, 10, 11, 12],\n",
    "    [13, 14, 15, 16]\n",
    "])\n",
    "print(t[1][2])\n",
    "print(t[2])\n",
    "print(t[2, :])\n",
    "print(t[:, 1]) "
   ]
  },
  {
   "cell_type": "markdown",
   "id": "074cf268",
   "metadata": {},
   "source": [
    "题目 10：切片操作\n",
    "描述：继续使用上一题的 4x4 张量。\n",
    "\n",
    "提取出右上角 2x2 的子张量（即 [[3, 4], [7, 8]]）。\n",
    "\n",
    "提取出所有偶数行（第 0 行和第 2 行）。\n",
    "\n"
   ]
  }
 ],
 "metadata": {
  "kernelspec": {
   "display_name": "prompt",
   "language": "python",
   "name": "python3"
  },
  "language_info": {
   "codemirror_mode": {
    "name": "ipython",
    "version": 3
   },
   "file_extension": ".py",
   "mimetype": "text/x-python",
   "name": "python",
   "nbconvert_exporter": "python",
   "pygments_lexer": "ipython3",
   "version": "3.11.13"
  }
 },
 "nbformat": 4,
 "nbformat_minor": 5
}

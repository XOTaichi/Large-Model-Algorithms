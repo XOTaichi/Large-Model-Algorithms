{
 "cells": [
  {
   "cell_type": "markdown",
   "id": "de634580",
   "metadata": {},
   "source": [
    "# PyTorch torch.tensor 编程挑战"
   ]
  },
  {
   "cell_type": "markdown",
   "id": "b4c9832e",
   "metadata": {},
   "source": [
    "## tensor的创建"
   ]
  },
  {
   "cell_type": "markdown",
   "id": "17ccdc5a",
   "metadata": {},
   "source": [
    "题目 1：从 Python 列表创建\n",
    "描述：根据一个一维 Python 列表 [1, 2, 3, 4, 5] 创建一个 PyTorch 张量。"
   ]
  },
  {
   "cell_type": "markdown",
   "id": "9050e54d",
   "metadata": {},
   "source": [
    "题目 2：创建多维张量\n",
    "描述：根据一个嵌套的 Python 列表 [[1, 2], [3, 4]] 创建一个 2x2 的二维张量。"
   ]
  },
  {
   "cell_type": "markdown",
   "id": "22e103cd",
   "metadata": {},
   "source": [
    "题目 3：指定数据类型\n",
    "描述：创建一个包含 [1.0, 2.0, 3.0] 的张量，并确保其数据类型（dtype）为 torch.float32。"
   ]
  },
  {
   "cell_type": "markdown",
   "id": "640aa12c",
   "metadata": {},
   "source": [
    "题目 4：从 NumPy 数组创建\n",
    "描述：首先，创建一个包含 [5, 6, 7, 8] 的 NumPy 数组。然后，将这个 NumPy 数组转换为 PyTorch 张量。"
   ]
  },
  {
   "cell_type": "code",
   "execution_count": null,
   "id": "834a72cb",
   "metadata": {
    "vscode": {
     "languageId": "plaintext"
    }
   },
   "outputs": [],
   "source": [
    "题目 5：创建需要梯度的张量\n",
    "描述：创建一个值为 2.0 的标量张量，并设置 requires_grad=True，用于后续的自动求导计算。"
   ]
  },
  {
   "cell_type": "markdown",
   "id": "e5b5b700",
   "metadata": {},
   "source": [
    "题目 6：使用 clone() 和 detach()\n",
    "描述：创建一个名为 a 的张量，其值为 [1, 2] 且 requires_grad=True。然后进行以下操作：\n",
    "\n",
    "创建 b = a.clone()。\n",
    "\n",
    "创建 c = a.detach()。\n",
    "\n",
    "请问 b 和 c 的 requires_grad 属性分别是多少？为什么？"
   ]
  },
  {
   "cell_type": "markdown",
   "id": "e6005b6d",
   "metadata": {},
   "source": [
    "题目 7：使用工厂函数创建\n",
    "描述：不直接使用 torch.tensor，而是使用 PyTorch 的工厂函数来完成以下操作：\n",
    "\n",
    "创建一个形状为 (3, 4) 的全零张量。\n",
    "\n",
    "创建一个形状为 (2, 5) 的全一张量。\n",
    "\n",
    "创建一个形状为 (3, 3) 但元素为随机数的张量。\n"
   ]
  }
 ],
 "metadata": {
  "language_info": {
   "name": "python"
  }
 },
 "nbformat": 4,
 "nbformat_minor": 5
}
